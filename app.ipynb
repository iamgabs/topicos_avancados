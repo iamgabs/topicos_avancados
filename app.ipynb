{
 "cells": [
  {
   "cell_type": "markdown",
   "metadata": {},
   "source": [
    "**Instituto Federal de Inovação, Ciência e Tecnologia de Pernambuco**\n",
    "\n",
    "**Tecnologia em Análise E Desenvolvimento de Sistemas**\n",
    "\n",
    "***Campus* Garanhuns** \n",
    "\n",
    "Discente: Gabriel da Silva Carvalho\n",
    "\n",
    "Docente: Prof. Msc. Luis Eduardo Tenório Silva"
   ]
  },
  {
   "cell_type": "markdown",
   "metadata": {},
   "source": [
    "# Iniciando em Python com o Google Colab \n",
    "\n",
    "O google colab utiliza o conceito de Jupyter notebooks que é utilizado para executar diversas linguagens de programação\n",
    "através do navegador ou de um editor de código compatível (como no caso do VSCode (Visual Studio Code)).\n",
    "\n",
    "A linguagem python é uma linguagem multiparadigmas (originalmente imperativa mas que permite a implementação de outros\n",
    "paradigmas como o orientado a objetos e funcional).\n",
    "\n",
    "No python, pode se utilizar aspas simples para strings (que aqui, é considera um tipo primitivo).\n",
    "Python é dinamicamente tipada, ou seja não há a necessidade de especificar o tipo das variáves, funções ou objetos."
   ]
  },
  {
   "cell_type": "code",
   "execution_count": 2,
   "metadata": {},
   "outputs": [
    {
     "name": "stdout",
     "output_type": "stream",
     "text": [
      "hello world!\n"
     ]
    }
   ],
   "source": [
    "print('hello world!')"
   ]
  },
  {
   "cell_type": "markdown",
   "metadata": {},
   "source": [
    "## Anotações em python \n",
    "\n",
    "O conceito de anotações em python é difente das outras lingugens, por exemplo, em Java,\n",
    "anotações podem ser usadas para realizar as necessidades do desenvolvedor como no Hibernate:\n",
    "\n",
    "~~~Java \n",
    "@Bean\n",
    "public class User {\n",
    "    @Id\n",
    "    private String Id;\n",
    "}\n",
    "~~~~\n",
    "\n",
    "No python esse conceito se chama \"decoradores\", que veremos mais à frente.\n",
    "\n",
    "Anotações em python, se referem a tipagem da linguagem, que por ser dinâmica,\n",
    "pode confudir desenvolvedores, especialmente quando o dado passa por diversos\n",
    "processos que possam alterar o tipo do seu retorno.\n",
    "\n",
    "Exemplos: \n",
    "\n",
    "~~~python\n",
    "# Função sem anotação em python\n",
    "def add(x, y):\n",
    "    return x + y\n",
    "\n",
    "~~~\n",
    "\n",
    "~~~python\n",
    "# Função com anotação em python\n",
    "def add(x: int, y: int) -> int:\n",
    "    return x + y\n",
    "\n",
    "~~~"
   ]
  },
  {
   "cell_type": "markdown",
   "metadata": {},
   "source": [
    "## Funções de alta ordem\n",
    "\n",
    "Funções de alta ordem são funções que recebem funções como argumento e podem retornar funções como resultado"
   ]
  },
  {
   "cell_type": "code",
   "execution_count": 4,
   "metadata": {},
   "outputs": [
    {
     "name": "stdout",
     "output_type": "stream",
     "text": [
      "36\n"
     ]
    }
   ],
   "source": [
    "def execute_novamente(func: callable, x: int) -> callable:\n",
    "    return func(func(x))\n",
    "\n",
    "\n",
    "def multiplicar_por_tres(x: int) -> int:\n",
    "    return x * 3\n",
    "\n",
    "resultado = execute_novamente(multiplicar_por_tres, 4)\n",
    "print(resultado) # esperado -> 36, pois 4 * 3 = 12, 12 * 3 = 36 "
   ]
  },
  {
   "cell_type": "markdown",
   "metadata": {},
   "source": [
    "No exemplo acima, a função \"execute_novamente\" é uma função de alta ordem,\n",
    "pois recebe uma função como parametro e retorna uma função como resultado"
   ]
  },
  {
   "cell_type": "markdown",
   "metadata": {},
   "source": [
    "## Composição de funções\n",
    "\n",
    "Quando criamos uma nova função combinando uma ou mais funções\n",
    "\n",
    "por exemplo:\n"
   ]
  },
  {
   "cell_type": "code",
   "execution_count": 25,
   "metadata": {},
   "outputs": [
    {
     "name": "stdout",
     "output_type": "stream",
     "text": [
      "30\n"
     ]
    }
   ],
   "source": [
    "# somar todos os numeros pares de uma lista\n",
    "lista: object = [1, 2, 3, 4, 5, 6, 7, 8, 9, 10]\n",
    "\n",
    "def filtrar_numeros_pares(x: int) -> bool:\n",
    "    return x % 2 == 0\n",
    "\n",
    "def somar_numeros_pares_da_lista(lista: object) -> int:\n",
    "    pares = filter(filtrar_numeros_pares, lista)\n",
    "    return sum(pares)\n",
    "\n",
    "print(somar_numeros_pares_da_lista(lista)) # esperado -> 30 pois 2 + 8 = 10 + 6 + 4 = 20 + 10 = 30\n"
   ]
  },
  {
   "cell_type": "markdown",
   "metadata": {},
   "source": [
    "## Imutabilidade\n",
    "\n",
    "Em python, strings são um exemplo de imutabilidade, pois uma vez declaradas,\n",
    "seu dado não pode ser alterado.\n",
    "\n",
    "exemplo:"
   ]
  },
  {
   "cell_type": "code",
   "execution_count": 19,
   "metadata": {},
   "outputs": [
    {
     "name": "stdout",
     "output_type": "stream",
     "text": [
      "hello world!\n",
      "HELLO WORLD!\n"
     ]
    }
   ],
   "source": [
    "minha_string: str = 'hello world!'\n",
    "minha_string.upper() # colocando a string em caixa alta\n",
    "print(minha_string) # esperado -> hello world!\n",
    "\n",
    "# Note que não alterou o valor\n",
    "# para alterar o valor devemos salvar em outra variável\n",
    "minha_string: str = 'hello world!'\n",
    "nova_string = minha_string.upper()\n",
    "print(nova_string)  # esperado -> HELLO WORLD!"
   ]
  },
  {
   "cell_type": "markdown",
   "metadata": {},
   "source": [
    "## Funções puras \n",
    "\n",
    "São funções que não alteram variáveis globais e que seu retorno depende exclusivamente dos argumentos passados.\n",
    "\n",
    "Por exemplo:"
   ]
  },
  {
   "cell_type": "code",
   "execution_count": 21,
   "metadata": {},
   "outputs": [
    {
     "name": "stdout",
     "output_type": "stream",
     "text": [
      "32\n"
     ]
    }
   ],
   "source": [
    "# elevar o argumento 1 a potência N do argumento 2\n",
    "def elevar_n(x: int, y: int) -> int:\n",
    "    return x ** y \n",
    "\n",
    "\n",
    "print(elevar_n(2, 5)) # esperado: 32"
   ]
  },
  {
   "cell_type": "markdown",
   "metadata": {},
   "source": [
    "## Recursão\n",
    "\n",
    "Quando uma função chama ela mesma para resolver um problema.\n",
    "\n",
    "por exemplo:"
   ]
  },
  {
   "cell_type": "code",
   "execution_count": 27,
   "metadata": {},
   "outputs": [
    {
     "name": "stdout",
     "output_type": "stream",
     "text": [
      "120\n"
     ]
    }
   ],
   "source": [
    "# fatorial de um número\n",
    "\n",
    "def fatorial(x: int) -> int:\n",
    "    if x == 0:\n",
    "        return 1\n",
    "    else:\n",
    "        return x * fatorial(x -1)\n",
    "\n",
    "\n",
    "print(fatorial(5)) # esperado -> 120"
   ]
  },
  {
   "cell_type": "markdown",
   "metadata": {},
   "source": [
    "## Currying\n",
    "\n",
    "Quando uma função que recebe vários argumentos é transformada em uma sequência de funções\n",
    "onde cada função aceita apenas um argumento. "
   ]
  },
  {
   "cell_type": "code",
   "execution_count": 30,
   "metadata": {},
   "outputs": [
    {
     "name": "stdout",
     "output_type": "stream",
     "text": [
      "16\n",
      "64\n"
     ]
    }
   ],
   "source": [
    "# elevar o argumento 1 a potência N do argumento 2 ( exemplo usado acima )\n",
    "def elevar(x: int) -> callable:\n",
    "    return lambda y: y ** x\n",
    "\n",
    "\n",
    "elevar_ao_quadrado: callable = elevar(2)\n",
    "elevar_ao_cubo: callable = elevar(3)\n",
    "\n",
    "print(elevar_ao_quadrado(4)) # esperado -> 16\n",
    "print(elevar_ao_cubo(4)) # esperado -> 64"
   ]
  },
  {
   "cell_type": "markdown",
   "metadata": {},
   "source": [
    "## Aplicações complexas em python com o conceito de decoradores\n",
    "\n",
    "Como visto anteriormente, no python, o conceito chamado de \"anotações\" em outras linguagens,\n",
    "é chamado de decoradores. Se referem a uma técnica avançada que consiste em juntar funções de alta ordem\n",
    "com composição de funções e possui a sintáxe: \"@nome_do_decorador\" aplicada em cima de métodos.\n",
    "\n",
    "Por exemplo:"
   ]
  },
  {
   "cell_type": "code",
   "execution_count": 31,
   "metadata": {},
   "outputs": [],
   "source": [
    "def caixa_alta(func: callable) -> callable:\n",
    "    def wrapper(*args, **kwargs) -> str:\n",
    "        result: str = func(*args, **kwargs)\n",
    "        return result.upper()\n",
    "    return wrapper"
   ]
  },
  {
   "cell_type": "code",
   "execution_count": 34,
   "metadata": {},
   "outputs": [],
   "source": [
    "@caixa_alta\n",
    "def boas_vindas(nome: str) -> str:\n",
    "    return f'Olá {nome}, seja bem vindo(a)!'\n",
    "\n",
    "\n",
    "def boas_vindas_1(nome: str) -> str:\n",
    "    return f'Olá {nome}, seja bem vindo(a)!'"
   ]
  },
  {
   "cell_type": "code",
   "execution_count": 35,
   "metadata": {},
   "outputs": [
    {
     "name": "stdout",
     "output_type": "stream",
     "text": [
      "OLÁ GABRIEL, SEJA BEM VINDO(A)!\n",
      "Olá Luis, seja bem vindo(a)!\n"
     ]
    }
   ],
   "source": [
    "print(boas_vindas('Gabriel'))\n",
    "print(boas_vindas_1('Luis'))"
   ]
  }
 ],
 "metadata": {
  "kernelspec": {
   "display_name": "Python 3",
   "language": "python",
   "name": "python3"
  },
  "language_info": {
   "codemirror_mode": {
    "name": "ipython",
    "version": 3
   },
   "file_extension": ".py",
   "mimetype": "text/x-python",
   "name": "python",
   "nbconvert_exporter": "python",
   "pygments_lexer": "ipython3",
   "version": "3.11.1"
  },
  "orig_nbformat": 4
 },
 "nbformat": 4,
 "nbformat_minor": 2
}
